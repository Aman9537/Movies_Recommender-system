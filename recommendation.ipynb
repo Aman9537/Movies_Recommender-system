{
 "cells": [
  {
   "cell_type": "code",
   "execution_count": 43,
   "metadata": {},
   "outputs": [],
   "source": [
    "import pandas as pd\n",
    "import numpy as np"
   ]
  },
  {
   "cell_type": "code",
   "execution_count": 44,
   "metadata": {},
   "outputs": [],
   "source": [
    "movies=pd.read_csv('tmdb_movie_dataset.csv')\n",
    "credits=pd.read_csv('tmdb_movie_credits.csv')"
   ]
  },
  {
   "cell_type": "code",
   "execution_count": 45,
   "metadata": {},
   "outputs": [
    {
     "data": {
      "text/html": [
       "<div>\n",
       "<style scoped>\n",
       "    .dataframe tbody tr th:only-of-type {\n",
       "        vertical-align: middle;\n",
       "    }\n",
       "\n",
       "    .dataframe tbody tr th {\n",
       "        vertical-align: top;\n",
       "    }\n",
       "\n",
       "    .dataframe thead th {\n",
       "        text-align: right;\n",
       "    }\n",
       "</style>\n",
       "<table border=\"1\" class=\"dataframe\">\n",
       "  <thead>\n",
       "    <tr style=\"text-align: right;\">\n",
       "      <th></th>\n",
       "      <th>budget</th>\n",
       "      <th>genres</th>\n",
       "      <th>homepage</th>\n",
       "      <th>tmdbId</th>\n",
       "      <th>keywords</th>\n",
       "      <th>original_language</th>\n",
       "      <th>original_title</th>\n",
       "      <th>overview</th>\n",
       "      <th>popularity</th>\n",
       "      <th>production_companies</th>\n",
       "      <th>...</th>\n",
       "      <th>release_date</th>\n",
       "      <th>revenue</th>\n",
       "      <th>runtime</th>\n",
       "      <th>spoken_languages</th>\n",
       "      <th>status</th>\n",
       "      <th>tagline</th>\n",
       "      <th>title</th>\n",
       "      <th>vote_average</th>\n",
       "      <th>vote_count</th>\n",
       "      <th>ratingId</th>\n",
       "    </tr>\n",
       "  </thead>\n",
       "  <tbody>\n",
       "    <tr>\n",
       "      <th>0</th>\n",
       "      <td>4000000</td>\n",
       "      <td>[{\"id\": 80, \"name\": \"Crime\"}, {\"id\": 35, \"name...</td>\n",
       "      <td>NaN</td>\n",
       "      <td>5</td>\n",
       "      <td>[{\"id\": 612, \"name\": \"hotel\"}, {\"id\": 613, \"na...</td>\n",
       "      <td>en</td>\n",
       "      <td>Four Rooms</td>\n",
       "      <td>It's Ted the Bellhop's first night on the job....</td>\n",
       "      <td>22.87623</td>\n",
       "      <td>[{\"name\": \"Miramax Films\", \"id\": 14}, {\"name\":...</td>\n",
       "      <td>...</td>\n",
       "      <td>1995-12-09</td>\n",
       "      <td>4300000</td>\n",
       "      <td>98.0</td>\n",
       "      <td>[{\"iso_639_1\": \"en\", \"name\": \"English\"}]</td>\n",
       "      <td>Released</td>\n",
       "      <td>Twelve outrageous guests. Four scandalous requ...</td>\n",
       "      <td>Four Rooms</td>\n",
       "      <td>6.5</td>\n",
       "      <td>530</td>\n",
       "      <td>18</td>\n",
       "    </tr>\n",
       "  </tbody>\n",
       "</table>\n",
       "<p>1 rows × 21 columns</p>\n",
       "</div>"
      ],
      "text/plain": [
       "    budget                                             genres homepage  \\\n",
       "0  4000000  [{\"id\": 80, \"name\": \"Crime\"}, {\"id\": 35, \"name...      NaN   \n",
       "\n",
       "   tmdbId                                           keywords  \\\n",
       "0       5  [{\"id\": 612, \"name\": \"hotel\"}, {\"id\": 613, \"na...   \n",
       "\n",
       "  original_language original_title  \\\n",
       "0                en     Four Rooms   \n",
       "\n",
       "                                            overview  popularity  \\\n",
       "0  It's Ted the Bellhop's first night on the job....    22.87623   \n",
       "\n",
       "                                production_companies  ... release_date  \\\n",
       "0  [{\"name\": \"Miramax Films\", \"id\": 14}, {\"name\":...  ...   1995-12-09   \n",
       "\n",
       "   revenue  runtime                          spoken_languages    status  \\\n",
       "0  4300000     98.0  [{\"iso_639_1\": \"en\", \"name\": \"English\"}]  Released   \n",
       "\n",
       "                                             tagline       title vote_average  \\\n",
       "0  Twelve outrageous guests. Four scandalous requ...  Four Rooms          6.5   \n",
       "\n",
       "   vote_count  ratingId  \n",
       "0         530        18  \n",
       "\n",
       "[1 rows x 21 columns]"
      ]
     },
     "execution_count": 45,
     "metadata": {},
     "output_type": "execute_result"
    }
   ],
   "source": [
    "movies.head(1)"
   ]
  },
  {
   "cell_type": "code",
   "execution_count": 46,
   "metadata": {},
   "outputs": [
    {
     "data": {
      "text/html": [
       "<div>\n",
       "<style scoped>\n",
       "    .dataframe tbody tr th:only-of-type {\n",
       "        vertical-align: middle;\n",
       "    }\n",
       "\n",
       "    .dataframe tbody tr th {\n",
       "        vertical-align: top;\n",
       "    }\n",
       "\n",
       "    .dataframe thead th {\n",
       "        text-align: right;\n",
       "    }\n",
       "</style>\n",
       "<table border=\"1\" class=\"dataframe\">\n",
       "  <thead>\n",
       "    <tr style=\"text-align: right;\">\n",
       "      <th></th>\n",
       "      <th>tmdbId</th>\n",
       "      <th>title</th>\n",
       "      <th>cast</th>\n",
       "      <th>crew</th>\n",
       "    </tr>\n",
       "  </thead>\n",
       "  <tbody>\n",
       "    <tr>\n",
       "      <th>0</th>\n",
       "      <td>5</td>\n",
       "      <td>Four Rooms</td>\n",
       "      <td>[{\"cast_id\": 42, \"character\": \"Ted the Bellhop...</td>\n",
       "      <td>[{\"credit_id\": \"52fe420dc3a36847f800012d\", \"de...</td>\n",
       "    </tr>\n",
       "  </tbody>\n",
       "</table>\n",
       "</div>"
      ],
      "text/plain": [
       "   tmdbId       title                                               cast  \\\n",
       "0       5  Four Rooms  [{\"cast_id\": 42, \"character\": \"Ted the Bellhop...   \n",
       "\n",
       "                                                crew  \n",
       "0  [{\"credit_id\": \"52fe420dc3a36847f800012d\", \"de...  "
      ]
     },
     "execution_count": 46,
     "metadata": {},
     "output_type": "execute_result"
    }
   ],
   "source": [
    "credits.head(1)"
   ]
  },
  {
   "cell_type": "code",
   "execution_count": 47,
   "metadata": {},
   "outputs": [],
   "source": [
    "movies=movies.merge(credits,on='title')"
   ]
  },
  {
   "cell_type": "code",
   "execution_count": 48,
   "metadata": {},
   "outputs": [
    {
     "data": {
      "text/html": [
       "<div>\n",
       "<style scoped>\n",
       "    .dataframe tbody tr th:only-of-type {\n",
       "        vertical-align: middle;\n",
       "    }\n",
       "\n",
       "    .dataframe tbody tr th {\n",
       "        vertical-align: top;\n",
       "    }\n",
       "\n",
       "    .dataframe thead th {\n",
       "        text-align: right;\n",
       "    }\n",
       "</style>\n",
       "<table border=\"1\" class=\"dataframe\">\n",
       "  <thead>\n",
       "    <tr style=\"text-align: right;\">\n",
       "      <th></th>\n",
       "      <th>budget</th>\n",
       "      <th>genres</th>\n",
       "      <th>homepage</th>\n",
       "      <th>tmdbId_x</th>\n",
       "      <th>keywords</th>\n",
       "      <th>original_language</th>\n",
       "      <th>original_title</th>\n",
       "      <th>overview</th>\n",
       "      <th>popularity</th>\n",
       "      <th>production_companies</th>\n",
       "      <th>...</th>\n",
       "      <th>spoken_languages</th>\n",
       "      <th>status</th>\n",
       "      <th>tagline</th>\n",
       "      <th>title</th>\n",
       "      <th>vote_average</th>\n",
       "      <th>vote_count</th>\n",
       "      <th>ratingId</th>\n",
       "      <th>tmdbId_y</th>\n",
       "      <th>cast</th>\n",
       "      <th>crew</th>\n",
       "    </tr>\n",
       "  </thead>\n",
       "  <tbody>\n",
       "    <tr>\n",
       "      <th>0</th>\n",
       "      <td>4000000</td>\n",
       "      <td>[{\"id\": 80, \"name\": \"Crime\"}, {\"id\": 35, \"name...</td>\n",
       "      <td>NaN</td>\n",
       "      <td>5</td>\n",
       "      <td>[{\"id\": 612, \"name\": \"hotel\"}, {\"id\": 613, \"na...</td>\n",
       "      <td>en</td>\n",
       "      <td>Four Rooms</td>\n",
       "      <td>It's Ted the Bellhop's first night on the job....</td>\n",
       "      <td>22.87623</td>\n",
       "      <td>[{\"name\": \"Miramax Films\", \"id\": 14}, {\"name\":...</td>\n",
       "      <td>...</td>\n",
       "      <td>[{\"iso_639_1\": \"en\", \"name\": \"English\"}]</td>\n",
       "      <td>Released</td>\n",
       "      <td>Twelve outrageous guests. Four scandalous requ...</td>\n",
       "      <td>Four Rooms</td>\n",
       "      <td>6.5</td>\n",
       "      <td>530</td>\n",
       "      <td>18</td>\n",
       "      <td>5</td>\n",
       "      <td>[{\"cast_id\": 42, \"character\": \"Ted the Bellhop...</td>\n",
       "      <td>[{\"credit_id\": \"52fe420dc3a36847f800012d\", \"de...</td>\n",
       "    </tr>\n",
       "  </tbody>\n",
       "</table>\n",
       "<p>1 rows × 24 columns</p>\n",
       "</div>"
      ],
      "text/plain": [
       "    budget                                             genres homepage  \\\n",
       "0  4000000  [{\"id\": 80, \"name\": \"Crime\"}, {\"id\": 35, \"name...      NaN   \n",
       "\n",
       "   tmdbId_x                                           keywords  \\\n",
       "0         5  [{\"id\": 612, \"name\": \"hotel\"}, {\"id\": 613, \"na...   \n",
       "\n",
       "  original_language original_title  \\\n",
       "0                en     Four Rooms   \n",
       "\n",
       "                                            overview  popularity  \\\n",
       "0  It's Ted the Bellhop's first night on the job....    22.87623   \n",
       "\n",
       "                                production_companies  ...  \\\n",
       "0  [{\"name\": \"Miramax Films\", \"id\": 14}, {\"name\":...  ...   \n",
       "\n",
       "                           spoken_languages    status  \\\n",
       "0  [{\"iso_639_1\": \"en\", \"name\": \"English\"}]  Released   \n",
       "\n",
       "                                             tagline       title vote_average  \\\n",
       "0  Twelve outrageous guests. Four scandalous requ...  Four Rooms          6.5   \n",
       "\n",
       "  vote_count ratingId tmdbId_y  \\\n",
       "0        530       18        5   \n",
       "\n",
       "                                                cast  \\\n",
       "0  [{\"cast_id\": 42, \"character\": \"Ted the Bellhop...   \n",
       "\n",
       "                                                crew  \n",
       "0  [{\"credit_id\": \"52fe420dc3a36847f800012d\", \"de...  \n",
       "\n",
       "[1 rows x 24 columns]"
      ]
     },
     "execution_count": 48,
     "metadata": {},
     "output_type": "execute_result"
    }
   ],
   "source": [
    "movies.head(1)"
   ]
  },
  {
   "cell_type": "code",
   "execution_count": 49,
   "metadata": {},
   "outputs": [
    {
     "data": {
      "text/plain": [
       "Index(['budget', 'genres', 'homepage', 'tmdbId_x', 'keywords',\n",
       "       'original_language', 'original_title', 'overview', 'popularity',\n",
       "       'production_companies', 'production_countries', 'release_date',\n",
       "       'revenue', 'runtime', 'spoken_languages', 'status', 'tagline', 'title',\n",
       "       'vote_average', 'vote_count', 'ratingId', 'tmdbId_y', 'cast', 'crew'],\n",
       "      dtype='object')"
      ]
     },
     "execution_count": 49,
     "metadata": {},
     "output_type": "execute_result"
    }
   ],
   "source": [
    "movies.columns"
   ]
  },
  {
   "cell_type": "code",
   "execution_count": 50,
   "metadata": {},
   "outputs": [],
   "source": [
    "# genres\n",
    "# id\n",
    "# keywords\n",
    "# title\n",
    "# overview\n",
    "# cast\n",
    "# crew\n",
    "movies = movies[['tmdbId_x','title','overview','genres','keywords', 'cast', 'crew']]\n"
   ]
  },
  {
   "cell_type": "code",
   "execution_count": 51,
   "metadata": {},
   "outputs": [],
   "source": [
    "movies.rename(columns={'tmdbId_x': 'movie_id'}, inplace=True)"
   ]
  },
  {
   "cell_type": "code",
   "execution_count": 52,
   "metadata": {},
   "outputs": [
    {
     "data": {
      "text/html": [
       "<div>\n",
       "<style scoped>\n",
       "    .dataframe tbody tr th:only-of-type {\n",
       "        vertical-align: middle;\n",
       "    }\n",
       "\n",
       "    .dataframe tbody tr th {\n",
       "        vertical-align: top;\n",
       "    }\n",
       "\n",
       "    .dataframe thead th {\n",
       "        text-align: right;\n",
       "    }\n",
       "</style>\n",
       "<table border=\"1\" class=\"dataframe\">\n",
       "  <thead>\n",
       "    <tr style=\"text-align: right;\">\n",
       "      <th></th>\n",
       "      <th>movie_id</th>\n",
       "      <th>title</th>\n",
       "      <th>overview</th>\n",
       "      <th>genres</th>\n",
       "      <th>keywords</th>\n",
       "      <th>cast</th>\n",
       "      <th>crew</th>\n",
       "    </tr>\n",
       "  </thead>\n",
       "  <tbody>\n",
       "    <tr>\n",
       "      <th>0</th>\n",
       "      <td>5</td>\n",
       "      <td>Four Rooms</td>\n",
       "      <td>It's Ted the Bellhop's first night on the job....</td>\n",
       "      <td>[{\"id\": 80, \"name\": \"Crime\"}, {\"id\": 35, \"name...</td>\n",
       "      <td>[{\"id\": 612, \"name\": \"hotel\"}, {\"id\": 613, \"na...</td>\n",
       "      <td>[{\"cast_id\": 42, \"character\": \"Ted the Bellhop...</td>\n",
       "      <td>[{\"credit_id\": \"52fe420dc3a36847f800012d\", \"de...</td>\n",
       "    </tr>\n",
       "  </tbody>\n",
       "</table>\n",
       "</div>"
      ],
      "text/plain": [
       "   movie_id       title                                           overview  \\\n",
       "0         5  Four Rooms  It's Ted the Bellhop's first night on the job....   \n",
       "\n",
       "                                              genres  \\\n",
       "0  [{\"id\": 80, \"name\": \"Crime\"}, {\"id\": 35, \"name...   \n",
       "\n",
       "                                            keywords  \\\n",
       "0  [{\"id\": 612, \"name\": \"hotel\"}, {\"id\": 613, \"na...   \n",
       "\n",
       "                                                cast  \\\n",
       "0  [{\"cast_id\": 42, \"character\": \"Ted the Bellhop...   \n",
       "\n",
       "                                                crew  \n",
       "0  [{\"credit_id\": \"52fe420dc3a36847f800012d\", \"de...  "
      ]
     },
     "execution_count": 52,
     "metadata": {},
     "output_type": "execute_result"
    }
   ],
   "source": [
    "movies.head(1)"
   ]
  },
  {
   "cell_type": "code",
   "execution_count": 53,
   "metadata": {},
   "outputs": [
    {
     "data": {
      "text/plain": [
       "movie_id    0\n",
       "title       0\n",
       "overview    1\n",
       "genres      0\n",
       "keywords    0\n",
       "cast        0\n",
       "crew        0\n",
       "dtype: int64"
      ]
     },
     "execution_count": 53,
     "metadata": {},
     "output_type": "execute_result"
    }
   ],
   "source": [
    "movies.isnull().sum()"
   ]
  },
  {
   "cell_type": "code",
   "execution_count": 54,
   "metadata": {},
   "outputs": [],
   "source": [
    "movies.dropna(inplace=True)"
   ]
  },
  {
   "cell_type": "code",
   "execution_count": 55,
   "metadata": {},
   "outputs": [
    {
     "data": {
      "text/plain": [
       "12"
      ]
     },
     "execution_count": 55,
     "metadata": {},
     "output_type": "execute_result"
    }
   ],
   "source": [
    "movies.duplicated().sum()"
   ]
  },
  {
   "cell_type": "code",
   "execution_count": 56,
   "metadata": {},
   "outputs": [],
   "source": [
    "#movies=movies.drop_duplicates()"
   ]
  },
  {
   "cell_type": "code",
   "execution_count": 57,
   "metadata": {},
   "outputs": [
    {
     "data": {
      "text/plain": [
       "'[{\"id\": 80, \"name\": \"Crime\"}, {\"id\": 35, \"name\": \"Comedy\"}]'"
      ]
     },
     "execution_count": 57,
     "metadata": {},
     "output_type": "execute_result"
    }
   ],
   "source": [
    "movies.iloc[0].genres"
   ]
  },
  {
   "cell_type": "code",
   "execution_count": 58,
   "metadata": {},
   "outputs": [],
   "source": [
    "import ast"
   ]
  },
  {
   "cell_type": "code",
   "execution_count": 59,
   "metadata": {},
   "outputs": [],
   "source": [
    "def convert(obj):\n",
    "    L=[]\n",
    "    for i in ast.literal_eval(obj):\n",
    "        L.append(i['name'])\n",
    "    return L"
   ]
  },
  {
   "cell_type": "code",
   "execution_count": 60,
   "metadata": {},
   "outputs": [],
   "source": [
    "movies['genres']=movies['genres'].apply(convert)"
   ]
  },
  {
   "cell_type": "code",
   "execution_count": 61,
   "metadata": {},
   "outputs": [
    {
     "data": {
      "text/html": [
       "<div>\n",
       "<style scoped>\n",
       "    .dataframe tbody tr th:only-of-type {\n",
       "        vertical-align: middle;\n",
       "    }\n",
       "\n",
       "    .dataframe tbody tr th {\n",
       "        vertical-align: top;\n",
       "    }\n",
       "\n",
       "    .dataframe thead th {\n",
       "        text-align: right;\n",
       "    }\n",
       "</style>\n",
       "<table border=\"1\" class=\"dataframe\">\n",
       "  <thead>\n",
       "    <tr style=\"text-align: right;\">\n",
       "      <th></th>\n",
       "      <th>movie_id</th>\n",
       "      <th>title</th>\n",
       "      <th>overview</th>\n",
       "      <th>genres</th>\n",
       "      <th>keywords</th>\n",
       "      <th>cast</th>\n",
       "      <th>crew</th>\n",
       "    </tr>\n",
       "  </thead>\n",
       "  <tbody>\n",
       "    <tr>\n",
       "      <th>0</th>\n",
       "      <td>5</td>\n",
       "      <td>Four Rooms</td>\n",
       "      <td>It's Ted the Bellhop's first night on the job....</td>\n",
       "      <td>[Crime, Comedy]</td>\n",
       "      <td>[{\"id\": 612, \"name\": \"hotel\"}, {\"id\": 613, \"na...</td>\n",
       "      <td>[{\"cast_id\": 42, \"character\": \"Ted the Bellhop...</td>\n",
       "      <td>[{\"credit_id\": \"52fe420dc3a36847f800012d\", \"de...</td>\n",
       "    </tr>\n",
       "  </tbody>\n",
       "</table>\n",
       "</div>"
      ],
      "text/plain": [
       "   movie_id       title                                           overview  \\\n",
       "0         5  Four Rooms  It's Ted the Bellhop's first night on the job....   \n",
       "\n",
       "            genres                                           keywords  \\\n",
       "0  [Crime, Comedy]  [{\"id\": 612, \"name\": \"hotel\"}, {\"id\": 613, \"na...   \n",
       "\n",
       "                                                cast  \\\n",
       "0  [{\"cast_id\": 42, \"character\": \"Ted the Bellhop...   \n",
       "\n",
       "                                                crew  \n",
       "0  [{\"credit_id\": \"52fe420dc3a36847f800012d\", \"de...  "
      ]
     },
     "execution_count": 61,
     "metadata": {},
     "output_type": "execute_result"
    }
   ],
   "source": [
    "movies.head(1)"
   ]
  },
  {
   "cell_type": "code",
   "execution_count": 62,
   "metadata": {},
   "outputs": [],
   "source": [
    "movies['keywords']=movies['keywords'].apply(convert)"
   ]
  },
  {
   "cell_type": "code",
   "execution_count": 63,
   "metadata": {},
   "outputs": [],
   "source": [
    "def convert1(obj):\n",
    "    L=[]\n",
    "    counter = 0\n",
    "    for i in ast.literal_eval(obj):\n",
    "        if counter != 3:\n",
    "            L.append(i['name'])\n",
    "            counter+=1\n",
    "        else:\n",
    "            break\n",
    "    return L"
   ]
  },
  {
   "cell_type": "code",
   "execution_count": 64,
   "metadata": {},
   "outputs": [],
   "source": [
    "movies['cast']=movies['cast'].apply(convert1)"
   ]
  },
  {
   "cell_type": "code",
   "execution_count": 65,
   "metadata": {},
   "outputs": [],
   "source": [
    "def fetch_director(obj):\n",
    "    L=[]\n",
    "    for i in ast.literal_eval(obj):\n",
    "        if i['job'] == 'Director':\n",
    "            L.append(i['name'])\n",
    "            break\n",
    "    return L"
   ]
  },
  {
   "cell_type": "code",
   "execution_count": 66,
   "metadata": {},
   "outputs": [],
   "source": [
    "movies['crew']=movies['crew'].apply(fetch_director)"
   ]
  },
  {
   "cell_type": "code",
   "execution_count": 67,
   "metadata": {},
   "outputs": [],
   "source": [
    "movies['overview']=movies['overview'].apply(lambda x:x.split())"
   ]
  },
  {
   "cell_type": "code",
   "execution_count": 68,
   "metadata": {},
   "outputs": [],
   "source": [
    "movies['genres']=movies['genres'].apply(lambda x:[i.replace(\" \",\"\") for i in x])\n",
    "movies['keywords']=movies['keywords'].apply(lambda x:[i.replace(\" \",\"\") for i in x])\n",
    "movies['cast']=movies['cast'].apply(lambda x:[i.replace(\" \",\"\") for i in x])\n",
    "movies['crew']=movies['crew'].apply(lambda x:[i. replace(\" \",\"\") for i in x])"
   ]
  },
  {
   "cell_type": "code",
   "execution_count": 69,
   "metadata": {},
   "outputs": [
    {
     "data": {
      "text/html": [
       "<div>\n",
       "<style scoped>\n",
       "    .dataframe tbody tr th:only-of-type {\n",
       "        vertical-align: middle;\n",
       "    }\n",
       "\n",
       "    .dataframe tbody tr th {\n",
       "        vertical-align: top;\n",
       "    }\n",
       "\n",
       "    .dataframe thead th {\n",
       "        text-align: right;\n",
       "    }\n",
       "</style>\n",
       "<table border=\"1\" class=\"dataframe\">\n",
       "  <thead>\n",
       "    <tr style=\"text-align: right;\">\n",
       "      <th></th>\n",
       "      <th>movie_id</th>\n",
       "      <th>title</th>\n",
       "      <th>overview</th>\n",
       "      <th>genres</th>\n",
       "      <th>keywords</th>\n",
       "      <th>cast</th>\n",
       "      <th>crew</th>\n",
       "    </tr>\n",
       "  </thead>\n",
       "  <tbody>\n",
       "    <tr>\n",
       "      <th>0</th>\n",
       "      <td>5</td>\n",
       "      <td>Four Rooms</td>\n",
       "      <td>[It's, Ted, the, Bellhop's, first, night, on, ...</td>\n",
       "      <td>[Crime, Comedy]</td>\n",
       "      <td>[hotel, newyear'seve, witch, bet, hotelroom, s...</td>\n",
       "      <td>[TimRoth, AntonioBanderas, JenniferBeals]</td>\n",
       "      <td>[AllisonAnders]</td>\n",
       "    </tr>\n",
       "    <tr>\n",
       "      <th>1</th>\n",
       "      <td>11</td>\n",
       "      <td>Star Wars</td>\n",
       "      <td>[Princess, Leia, is, captured, and, held, host...</td>\n",
       "      <td>[Adventure, Action, ScienceFiction]</td>\n",
       "      <td>[android, galaxy, hermit, deathstar, lightsabe...</td>\n",
       "      <td>[MarkHamill, HarrisonFord, CarrieFisher]</td>\n",
       "      <td>[GeorgeLucas]</td>\n",
       "    </tr>\n",
       "    <tr>\n",
       "      <th>2</th>\n",
       "      <td>12</td>\n",
       "      <td>Finding Nemo</td>\n",
       "      <td>[Nemo,, an, adventurous, young, clownfish,, is...</td>\n",
       "      <td>[Animation, Family]</td>\n",
       "      <td>[fathersonrelationship, harbor, underwater, fi...</td>\n",
       "      <td>[AlbertBrooks, EllenDeGeneres, AlexanderGould]</td>\n",
       "      <td>[AndrewStanton]</td>\n",
       "    </tr>\n",
       "    <tr>\n",
       "      <th>3</th>\n",
       "      <td>13</td>\n",
       "      <td>Forrest Gump</td>\n",
       "      <td>[A, man, with, a, low, IQ, has, accomplished, ...</td>\n",
       "      <td>[Comedy, Drama, Romance]</td>\n",
       "      <td>[vietnamveteran, hippie, mentallydisabled, run...</td>\n",
       "      <td>[TomHanks, RobinWright, GarySinise]</td>\n",
       "      <td>[RobertZemeckis]</td>\n",
       "    </tr>\n",
       "    <tr>\n",
       "      <th>4</th>\n",
       "      <td>14</td>\n",
       "      <td>American Beauty</td>\n",
       "      <td>[Lester, Burnham,, a, depressed, suburban, fat...</td>\n",
       "      <td>[Drama]</td>\n",
       "      <td>[malenudity, femalenudity, adultery, midlifecr...</td>\n",
       "      <td>[KevinSpacey, AnnetteBening, ThoraBirch]</td>\n",
       "      <td>[SamMendes]</td>\n",
       "    </tr>\n",
       "  </tbody>\n",
       "</table>\n",
       "</div>"
      ],
      "text/plain": [
       "   movie_id            title  \\\n",
       "0         5       Four Rooms   \n",
       "1        11        Star Wars   \n",
       "2        12     Finding Nemo   \n",
       "3        13     Forrest Gump   \n",
       "4        14  American Beauty   \n",
       "\n",
       "                                            overview  \\\n",
       "0  [It's, Ted, the, Bellhop's, first, night, on, ...   \n",
       "1  [Princess, Leia, is, captured, and, held, host...   \n",
       "2  [Nemo,, an, adventurous, young, clownfish,, is...   \n",
       "3  [A, man, with, a, low, IQ, has, accomplished, ...   \n",
       "4  [Lester, Burnham,, a, depressed, suburban, fat...   \n",
       "\n",
       "                                genres  \\\n",
       "0                      [Crime, Comedy]   \n",
       "1  [Adventure, Action, ScienceFiction]   \n",
       "2                  [Animation, Family]   \n",
       "3             [Comedy, Drama, Romance]   \n",
       "4                              [Drama]   \n",
       "\n",
       "                                            keywords  \\\n",
       "0  [hotel, newyear'seve, witch, bet, hotelroom, s...   \n",
       "1  [android, galaxy, hermit, deathstar, lightsabe...   \n",
       "2  [fathersonrelationship, harbor, underwater, fi...   \n",
       "3  [vietnamveteran, hippie, mentallydisabled, run...   \n",
       "4  [malenudity, femalenudity, adultery, midlifecr...   \n",
       "\n",
       "                                             cast              crew  \n",
       "0       [TimRoth, AntonioBanderas, JenniferBeals]   [AllisonAnders]  \n",
       "1        [MarkHamill, HarrisonFord, CarrieFisher]     [GeorgeLucas]  \n",
       "2  [AlbertBrooks, EllenDeGeneres, AlexanderGould]   [AndrewStanton]  \n",
       "3             [TomHanks, RobinWright, GarySinise]  [RobertZemeckis]  \n",
       "4        [KevinSpacey, AnnetteBening, ThoraBirch]       [SamMendes]  "
      ]
     },
     "execution_count": 69,
     "metadata": {},
     "output_type": "execute_result"
    }
   ],
   "source": [
    "movies.head()"
   ]
  },
  {
   "cell_type": "code",
   "execution_count": 70,
   "metadata": {},
   "outputs": [],
   "source": [
    "movies['tags']=movies['overview']+ movies['genres']+movies['keywords']+ movies['cast'] + movies['crew']"
   ]
  },
  {
   "cell_type": "code",
   "execution_count": 71,
   "metadata": {},
   "outputs": [
    {
     "data": {
      "text/html": [
       "<div>\n",
       "<style scoped>\n",
       "    .dataframe tbody tr th:only-of-type {\n",
       "        vertical-align: middle;\n",
       "    }\n",
       "\n",
       "    .dataframe tbody tr th {\n",
       "        vertical-align: top;\n",
       "    }\n",
       "\n",
       "    .dataframe thead th {\n",
       "        text-align: right;\n",
       "    }\n",
       "</style>\n",
       "<table border=\"1\" class=\"dataframe\">\n",
       "  <thead>\n",
       "    <tr style=\"text-align: right;\">\n",
       "      <th></th>\n",
       "      <th>movie_id</th>\n",
       "      <th>title</th>\n",
       "      <th>overview</th>\n",
       "      <th>genres</th>\n",
       "      <th>keywords</th>\n",
       "      <th>cast</th>\n",
       "      <th>crew</th>\n",
       "      <th>tags</th>\n",
       "    </tr>\n",
       "  </thead>\n",
       "  <tbody>\n",
       "    <tr>\n",
       "      <th>0</th>\n",
       "      <td>5</td>\n",
       "      <td>Four Rooms</td>\n",
       "      <td>[It's, Ted, the, Bellhop's, first, night, on, ...</td>\n",
       "      <td>[Crime, Comedy]</td>\n",
       "      <td>[hotel, newyear'seve, witch, bet, hotelroom, s...</td>\n",
       "      <td>[TimRoth, AntonioBanderas, JenniferBeals]</td>\n",
       "      <td>[AllisonAnders]</td>\n",
       "      <td>[It's, Ted, the, Bellhop's, first, night, on, ...</td>\n",
       "    </tr>\n",
       "    <tr>\n",
       "      <th>1</th>\n",
       "      <td>11</td>\n",
       "      <td>Star Wars</td>\n",
       "      <td>[Princess, Leia, is, captured, and, held, host...</td>\n",
       "      <td>[Adventure, Action, ScienceFiction]</td>\n",
       "      <td>[android, galaxy, hermit, deathstar, lightsabe...</td>\n",
       "      <td>[MarkHamill, HarrisonFord, CarrieFisher]</td>\n",
       "      <td>[GeorgeLucas]</td>\n",
       "      <td>[Princess, Leia, is, captured, and, held, host...</td>\n",
       "    </tr>\n",
       "    <tr>\n",
       "      <th>2</th>\n",
       "      <td>12</td>\n",
       "      <td>Finding Nemo</td>\n",
       "      <td>[Nemo,, an, adventurous, young, clownfish,, is...</td>\n",
       "      <td>[Animation, Family]</td>\n",
       "      <td>[fathersonrelationship, harbor, underwater, fi...</td>\n",
       "      <td>[AlbertBrooks, EllenDeGeneres, AlexanderGould]</td>\n",
       "      <td>[AndrewStanton]</td>\n",
       "      <td>[Nemo,, an, adventurous, young, clownfish,, is...</td>\n",
       "    </tr>\n",
       "    <tr>\n",
       "      <th>3</th>\n",
       "      <td>13</td>\n",
       "      <td>Forrest Gump</td>\n",
       "      <td>[A, man, with, a, low, IQ, has, accomplished, ...</td>\n",
       "      <td>[Comedy, Drama, Romance]</td>\n",
       "      <td>[vietnamveteran, hippie, mentallydisabled, run...</td>\n",
       "      <td>[TomHanks, RobinWright, GarySinise]</td>\n",
       "      <td>[RobertZemeckis]</td>\n",
       "      <td>[A, man, with, a, low, IQ, has, accomplished, ...</td>\n",
       "    </tr>\n",
       "    <tr>\n",
       "      <th>4</th>\n",
       "      <td>14</td>\n",
       "      <td>American Beauty</td>\n",
       "      <td>[Lester, Burnham,, a, depressed, suburban, fat...</td>\n",
       "      <td>[Drama]</td>\n",
       "      <td>[malenudity, femalenudity, adultery, midlifecr...</td>\n",
       "      <td>[KevinSpacey, AnnetteBening, ThoraBirch]</td>\n",
       "      <td>[SamMendes]</td>\n",
       "      <td>[Lester, Burnham,, a, depressed, suburban, fat...</td>\n",
       "    </tr>\n",
       "  </tbody>\n",
       "</table>\n",
       "</div>"
      ],
      "text/plain": [
       "   movie_id            title  \\\n",
       "0         5       Four Rooms   \n",
       "1        11        Star Wars   \n",
       "2        12     Finding Nemo   \n",
       "3        13     Forrest Gump   \n",
       "4        14  American Beauty   \n",
       "\n",
       "                                            overview  \\\n",
       "0  [It's, Ted, the, Bellhop's, first, night, on, ...   \n",
       "1  [Princess, Leia, is, captured, and, held, host...   \n",
       "2  [Nemo,, an, adventurous, young, clownfish,, is...   \n",
       "3  [A, man, with, a, low, IQ, has, accomplished, ...   \n",
       "4  [Lester, Burnham,, a, depressed, suburban, fat...   \n",
       "\n",
       "                                genres  \\\n",
       "0                      [Crime, Comedy]   \n",
       "1  [Adventure, Action, ScienceFiction]   \n",
       "2                  [Animation, Family]   \n",
       "3             [Comedy, Drama, Romance]   \n",
       "4                              [Drama]   \n",
       "\n",
       "                                            keywords  \\\n",
       "0  [hotel, newyear'seve, witch, bet, hotelroom, s...   \n",
       "1  [android, galaxy, hermit, deathstar, lightsabe...   \n",
       "2  [fathersonrelationship, harbor, underwater, fi...   \n",
       "3  [vietnamveteran, hippie, mentallydisabled, run...   \n",
       "4  [malenudity, femalenudity, adultery, midlifecr...   \n",
       "\n",
       "                                             cast              crew  \\\n",
       "0       [TimRoth, AntonioBanderas, JenniferBeals]   [AllisonAnders]   \n",
       "1        [MarkHamill, HarrisonFord, CarrieFisher]     [GeorgeLucas]   \n",
       "2  [AlbertBrooks, EllenDeGeneres, AlexanderGould]   [AndrewStanton]   \n",
       "3             [TomHanks, RobinWright, GarySinise]  [RobertZemeckis]   \n",
       "4        [KevinSpacey, AnnetteBening, ThoraBirch]       [SamMendes]   \n",
       "\n",
       "                                                tags  \n",
       "0  [It's, Ted, the, Bellhop's, first, night, on, ...  \n",
       "1  [Princess, Leia, is, captured, and, held, host...  \n",
       "2  [Nemo,, an, adventurous, young, clownfish,, is...  \n",
       "3  [A, man, with, a, low, IQ, has, accomplished, ...  \n",
       "4  [Lester, Burnham,, a, depressed, suburban, fat...  "
      ]
     },
     "execution_count": 71,
     "metadata": {},
     "output_type": "execute_result"
    }
   ],
   "source": [
    "movies.head()"
   ]
  },
  {
   "cell_type": "code",
   "execution_count": 72,
   "metadata": {},
   "outputs": [],
   "source": [
    "new_df = movies[['movie_id','title','tags']]"
   ]
  },
  {
   "cell_type": "code",
   "execution_count": 73,
   "metadata": {},
   "outputs": [
    {
     "name": "stderr",
     "output_type": "stream",
     "text": [
      "C:\\Users\\goyal\\AppData\\Local\\Temp\\ipykernel_27700\\487797088.py:1: SettingWithCopyWarning: \n",
      "A value is trying to be set on a copy of a slice from a DataFrame.\n",
      "Try using .loc[row_indexer,col_indexer] = value instead\n",
      "\n",
      "See the caveats in the documentation: https://pandas.pydata.org/pandas-docs/stable/user_guide/indexing.html#returning-a-view-versus-a-copy\n",
      "  new_df['tags']=new_df['tags'].apply(lambda x:\" \".join(x))\n"
     ]
    }
   ],
   "source": [
    "new_df['tags']=new_df['tags'].apply(lambda x:\" \".join(x))"
   ]
  },
  {
   "cell_type": "code",
   "execution_count": 74,
   "metadata": {},
   "outputs": [],
   "source": [
    "new_df.to_csv('movies.csv',index=False)"
   ]
  },
  {
   "cell_type": "code",
   "execution_count": 75,
   "metadata": {},
   "outputs": [
    {
     "data": {
      "text/html": [
       "<div>\n",
       "<style scoped>\n",
       "    .dataframe tbody tr th:only-of-type {\n",
       "        vertical-align: middle;\n",
       "    }\n",
       "\n",
       "    .dataframe tbody tr th {\n",
       "        vertical-align: top;\n",
       "    }\n",
       "\n",
       "    .dataframe thead th {\n",
       "        text-align: right;\n",
       "    }\n",
       "</style>\n",
       "<table border=\"1\" class=\"dataframe\">\n",
       "  <thead>\n",
       "    <tr style=\"text-align: right;\">\n",
       "      <th></th>\n",
       "      <th>movie_id</th>\n",
       "      <th>title</th>\n",
       "      <th>tags</th>\n",
       "    </tr>\n",
       "  </thead>\n",
       "  <tbody>\n",
       "    <tr>\n",
       "      <th>0</th>\n",
       "      <td>5</td>\n",
       "      <td>Four Rooms</td>\n",
       "      <td>It's Ted the Bellhop's first night on the job....</td>\n",
       "    </tr>\n",
       "    <tr>\n",
       "      <th>1</th>\n",
       "      <td>11</td>\n",
       "      <td>Star Wars</td>\n",
       "      <td>Princess Leia is captured and held hostage by ...</td>\n",
       "    </tr>\n",
       "    <tr>\n",
       "      <th>2</th>\n",
       "      <td>12</td>\n",
       "      <td>Finding Nemo</td>\n",
       "      <td>Nemo, an adventurous young clownfish, is unexp...</td>\n",
       "    </tr>\n",
       "    <tr>\n",
       "      <th>3</th>\n",
       "      <td>13</td>\n",
       "      <td>Forrest Gump</td>\n",
       "      <td>A man with a low IQ has accomplished great thi...</td>\n",
       "    </tr>\n",
       "    <tr>\n",
       "      <th>4</th>\n",
       "      <td>14</td>\n",
       "      <td>American Beauty</td>\n",
       "      <td>Lester Burnham, a depressed suburban father in...</td>\n",
       "    </tr>\n",
       "  </tbody>\n",
       "</table>\n",
       "</div>"
      ],
      "text/plain": [
       "   movie_id            title  \\\n",
       "0         5       Four Rooms   \n",
       "1        11        Star Wars   \n",
       "2        12     Finding Nemo   \n",
       "3        13     Forrest Gump   \n",
       "4        14  American Beauty   \n",
       "\n",
       "                                                tags  \n",
       "0  It's Ted the Bellhop's first night on the job....  \n",
       "1  Princess Leia is captured and held hostage by ...  \n",
       "2  Nemo, an adventurous young clownfish, is unexp...  \n",
       "3  A man with a low IQ has accomplished great thi...  \n",
       "4  Lester Burnham, a depressed suburban father in...  "
      ]
     },
     "execution_count": 75,
     "metadata": {},
     "output_type": "execute_result"
    }
   ],
   "source": [
    "new_df.head()"
   ]
  },
  {
   "cell_type": "code",
   "execution_count": 76,
   "metadata": {},
   "outputs": [
    {
     "name": "stderr",
     "output_type": "stream",
     "text": [
      "[nltk_data] Downloading package stopwords to\n",
      "[nltk_data]     C:\\Users\\goyal\\AppData\\Roaming\\nltk_data...\n",
      "[nltk_data]   Package stopwords is already up-to-date!\n",
      "C:\\Users\\goyal\\AppData\\Local\\Temp\\ipykernel_27700\\1661454833.py:23: SettingWithCopyWarning: \n",
      "A value is trying to be set on a copy of a slice from a DataFrame.\n",
      "Try using .loc[row_indexer,col_indexer] = value instead\n",
      "\n",
      "See the caveats in the documentation: https://pandas.pydata.org/pandas-docs/stable/user_guide/indexing.html#returning-a-view-versus-a-copy\n",
      "  new_df['tags'] = new_df['tags'].apply(clean_text)\n"
     ]
    }
   ],
   "source": [
    "import nltk\n",
    "from nltk.corpus import stopwords\n",
    "from nltk.stem.porter import PorterStemmer\n",
    "import string\n",
    "\n",
    "nltk.download('stopwords')\n",
    "\n",
    "ps = PorterStemmer()\n",
    "stop_words = set(stopwords.words('english'))\n",
    "\n",
    "def clean_text(text):\n",
    "    text = text.lower()\n",
    "    text = text.translate(str.maketrans('', '', string.punctuation))\n",
    "    tokens = [word for word in text.split() if word not in stop_words]\n",
    "    stemmed_tokens = [ps.stem(word) for word in tokens]\n",
    "    return \" \".join(stemmed_tokens)\n",
    "\n",
    "new_df['tags'] = new_df['tags'].apply(clean_text)\n"
   ]
  },
  {
   "cell_type": "code",
   "execution_count": 77,
   "metadata": {},
   "outputs": [],
   "source": [
    "from sklearn.feature_extraction.text import TfidfVectorizer\n",
    "tfidf = TfidfVectorizer(max_features=5000)  \n",
    "tfidf_matrix = tfidf.fit_transform(new_df['tags'])"
   ]
  },
  {
   "cell_type": "code",
   "execution_count": 78,
   "metadata": {},
   "outputs": [],
   "source": [
    "from sklearn.metrics.pairwise import cosine_similarity\n",
    "cosine_sim = cosine_similarity(tfidf_matrix)\n"
   ]
  },
  {
   "cell_type": "code",
   "execution_count": 79,
   "metadata": {},
   "outputs": [
    {
     "name": "stdout",
     "output_type": "stream",
     "text": [
      "3426                 The Dark Knight Rises\n",
      "166                         Batman Returns\n",
      "127                          Batman Begins\n",
      "184                         Batman Forever\n",
      "185                         Batman & Robin\n",
      "4214    Batman v Superman: Dawn of Justice\n",
      "124                                 Batman\n",
      "123                                 Batman\n",
      "4031                        The Lego Movie\n",
      "2779       Gangster's Paradise: Jerusalema\n",
      "Name: title, dtype: object\n"
     ]
    }
   ],
   "source": [
    "def recommend_movies(movie_title, df, cosine_sim):\n",
    "    idx = df[df['title'] == movie_title].index[0]\n",
    "    sim_scores = list(enumerate(cosine_sim[idx]))\n",
    "    sim_scores = sorted(sim_scores, key=lambda x: x[1], reverse=True)\n",
    "    sim_indices = [i[0] for i in sim_scores[1:11]] \n",
    "    return df['title'].iloc[sim_indices]\n",
    "print(recommend_movies('The Dark Knight', new_df, cosine_sim))"
   ]
  },
  {
   "cell_type": "code",
   "execution_count": 80,
   "metadata": {},
   "outputs": [],
   "source": [
    "def recommend(movie):\n",
    "    movie_index=new_df[new_df['title'] == movie].index[0]\n",
    "    distance = cosine_sim[movie_index]\n",
    "    movie_list= sorted(list(enumerate(distance)),reverse=True,key=lambda x:x[1])[1:8]\n",
    "\n",
    "    for i in movie_list:\n",
    "        print(new_df.iloc[i[0]].title)"
   ]
  },
  {
   "cell_type": "code",
   "execution_count": 81,
   "metadata": {},
   "outputs": [
    {
     "name": "stdout",
     "output_type": "stream",
     "text": [
      "Batman\n",
      "Batman & Robin\n",
      "Batman Returns\n",
      "The Dark Knight Rises\n",
      "Batman\n",
      "Batman Begins\n",
      "Batman Forever\n"
     ]
    }
   ],
   "source": [
    "recommend('Batman')"
   ]
  },
  {
   "cell_type": "code",
   "execution_count": 82,
   "metadata": {},
   "outputs": [],
   "source": [
    "import pickle\n",
    "with open('cosine_sim.pkl', 'wb') as file:\n",
    "    pickle.dump(cosine_sim, file)"
   ]
  },
  {
   "cell_type": "code",
   "execution_count": 83,
   "metadata": {},
   "outputs": [
    {
     "data": {
      "text/plain": [
       "124                                 Batman\n",
       "185                         Batman & Robin\n",
       "166                         Batman Returns\n",
       "3426                 The Dark Knight Rises\n",
       "125                                 Batman\n",
       "127                          Batman Begins\n",
       "184                         Batman Forever\n",
       "68                         The Dark Knight\n",
       "4214    Batman v Superman: Dawn of Justice\n",
       "3092                              Defendor\n",
       "Name: title, dtype: object"
      ]
     },
     "execution_count": 83,
     "metadata": {},
     "output_type": "execute_result"
    }
   ],
   "source": [
    "recommend_movies('Batman',new_df,cosine_sim)"
   ]
  },
  {
   "cell_type": "code",
   "execution_count": null,
   "metadata": {},
   "outputs": [],
   "source": []
  }
 ],
 "metadata": {
  "kernelspec": {
   "display_name": "Python 3",
   "language": "python",
   "name": "python3"
  },
  "language_info": {
   "codemirror_mode": {
    "name": "ipython",
    "version": 3
   },
   "file_extension": ".py",
   "mimetype": "text/x-python",
   "name": "python",
   "nbconvert_exporter": "python",
   "pygments_lexer": "ipython3",
   "version": "3.11.9"
  }
 },
 "nbformat": 4,
 "nbformat_minor": 2
}
